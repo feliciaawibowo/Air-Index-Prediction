{
 "cells": [
  {
   "cell_type": "code",
   "execution_count": 12,
   "id": "fff0e189",
   "metadata": {},
   "outputs": [],
   "source": [
    "# importing libraries\n",
    "import pandas as pd\n",
    "import numpy as np\n",
    "import matplotlib.pyplot as plt\n",
    "# importing classification models\n",
    "from sklearn.tree import DecisionTreeClassifier\n",
    "# importing ensemble learning models\n",
    "from sklearn.ensemble import RandomForestClassifier\n",
    "from sklearn.ensemble import GradientBoostingClassifier\n",
    "#importing methods for model evaluation\n",
    "from sklearn import metrics"
   ]
  },
  {
   "cell_type": "code",
   "execution_count": 13,
   "id": "c4197514",
   "metadata": {},
   "outputs": [],
   "source": [
    "# load dataset\n",
    "df = pd.read_csv('air_index.csv')"
   ]
  },
  {
   "cell_type": "code",
   "execution_count": 14,
   "id": "b57f297d",
   "metadata": {},
   "outputs": [
    {
     "data": {
      "text/plain": [
       "<bound method NDFrame.head of          tanggal             stasiun  pm10   so2    co    o3   no2   max  \\\n",
       "0     2010-01-01  DKI1 (Bunderan HI)  60.0   4.0  73.0  27.0  14.0  73.0   \n",
       "1     2010-01-02  DKI1 (Bunderan HI)  32.0   2.0  16.0  33.0   9.0  33.0   \n",
       "2     2010-01-03  DKI1 (Bunderan HI)  27.0   2.0  19.0  20.0   9.0  27.0   \n",
       "3     2010-01-04  DKI1 (Bunderan HI)  22.0   2.0  16.0  15.0   6.0  22.0   \n",
       "4     2010-01-05  DKI1 (Bunderan HI)  25.0   2.0  17.0  15.0   8.0  25.0   \n",
       "...          ...                 ...   ...   ...   ...   ...   ...   ...   \n",
       "4378  2021-12-27  DKI1 (Bunderan HI)  52.0  61.0  15.0  20.0  15.0  71.0   \n",
       "4379  2021-12-28  DKI1 (Bunderan HI)  51.0  53.0  15.0  18.0  13.0  65.0   \n",
       "4380  2021-12-29  DKI1 (Bunderan HI)  31.0  54.0  10.0  24.0  11.0  54.0   \n",
       "4381  2021-12-30  DKI1 (Bunderan HI)  55.0  53.0  16.0  23.0  14.0  71.0   \n",
       "4382  2021-12-31  DKI1 (Bunderan HI)  62.0  52.0  23.0  20.0  14.0  85.0   \n",
       "\n",
       "     critical categori  pm25  \n",
       "0          CO   SEDANG   NaN  \n",
       "1          O3     BAIK   NaN  \n",
       "2        PM10     BAIK   NaN  \n",
       "3        PM10     BAIK   NaN  \n",
       "4        PM10     BAIK   NaN  \n",
       "...       ...      ...   ...  \n",
       "4378     PM25   SEDANG  71.0  \n",
       "4379     PM25   SEDANG  65.0  \n",
       "4380      SO2   SEDANG  49.0  \n",
       "4381     PM25   SEDANG  71.0  \n",
       "4382     PM25   SEDANG  85.0  \n",
       "\n",
       "[4383 rows x 11 columns]>"
      ]
     },
     "execution_count": 14,
     "metadata": {},
     "output_type": "execute_result"
    }
   ],
   "source": [
    "df.head"
   ]
  },
  {
   "cell_type": "code",
   "execution_count": 15,
   "id": "8c24c681",
   "metadata": {
    "scrolled": true
   },
   "outputs": [
    {
     "name": "stdout",
     "output_type": "stream",
     "text": [
      "<class 'pandas.core.frame.DataFrame'>\n",
      "RangeIndex: 4383 entries, 0 to 4382\n",
      "Data columns (total 11 columns):\n",
      " #   Column    Non-Null Count  Dtype  \n",
      "---  ------    --------------  -----  \n",
      " 0   tanggal   4383 non-null   object \n",
      " 1   stasiun   4383 non-null   object \n",
      " 2   pm10      4171 non-null   float64\n",
      " 3   so2       4208 non-null   float64\n",
      " 4   co        4233 non-null   float64\n",
      " 5   o3        4180 non-null   float64\n",
      " 6   no2       4190 non-null   float64\n",
      " 7   max       4374 non-null   float64\n",
      " 8   critical  4273 non-null   object \n",
      " 9   categori  4383 non-null   object \n",
      " 10  pm25      365 non-null    float64\n",
      "dtypes: float64(7), object(4)\n",
      "memory usage: 376.8+ KB\n"
     ]
    }
   ],
   "source": [
    "# check nama column, missing values dan tipe data\n",
    "df.info()"
   ]
  },
  {
   "cell_type": "code",
   "execution_count": 16,
   "id": "34a0c2aa",
   "metadata": {
    "scrolled": true
   },
   "outputs": [
    {
     "data": {
      "text/plain": [
       "Index(['tanggal', 'stasiun', 'pm10', 'so2', 'co', 'o3', 'no2', 'max',\n",
       "       'critical', 'categori', 'pm25'],\n",
       "      dtype='object')"
      ]
     },
     "execution_count": 16,
     "metadata": {},
     "output_type": "execute_result"
    }
   ],
   "source": [
    "df.columns"
   ]
  },
  {
   "cell_type": "code",
   "execution_count": 17,
   "id": "504e071d",
   "metadata": {},
   "outputs": [],
   "source": [
    "# drop columns\n",
    "drop_column = ['tanggal', 'stasiun', 'max', 'critical', 'pm25']\n",
    "df = df.drop(drop_column, axis = 1)"
   ]
  },
  {
   "cell_type": "markdown",
   "id": "9d6c2709",
   "metadata": {},
   "source": [
    "Disini kami drop column 'tanggal', 'stasiun', 'max', dan 'critical' karena menganggap bahwa columns tersebut tidak mempengaruhi hasil prediksi yang akan kami lakukan. Sedangkan untuk column 'pm25', kami drop dikarenakan column tersebut hanya memiliki 365 data yang terisi (hanya 8% data yang tersedia)."
   ]
  },
  {
   "cell_type": "code",
   "execution_count": 18,
   "id": "d62f1910",
   "metadata": {
    "scrolled": true
   },
   "outputs": [
    {
     "data": {
      "text/plain": [
       "SEDANG            0.699293\n",
       "BAIK              0.240475\n",
       "TIDAK SEHAT       0.035136\n",
       "TIDAK ADA DATA    0.025097\n",
       "Name: categori, dtype: float64"
      ]
     },
     "execution_count": 18,
     "metadata": {},
     "output_type": "execute_result"
    }
   ],
   "source": [
    "# lihat distribusi data dalam column 'categori'\n",
    "df['categori'].value_counts(normalize = True)"
   ]
  },
  {
   "cell_type": "markdown",
   "id": "9774665c",
   "metadata": {},
   "source": [
    "Terlihat bahwa ada 4 data yang ada di dalam column 'categori', yaitu SEDANG, BAIK, TIDAK SEHAT, dan TIDAK ADA DATA."
   ]
  },
  {
   "cell_type": "code",
   "execution_count": 19,
   "id": "f0e12cb5",
   "metadata": {},
   "outputs": [],
   "source": [
    "df = df[df['categori'] != 'TIDAK ADA DATA']"
   ]
  },
  {
   "cell_type": "markdown",
   "id": "373012e5",
   "metadata": {},
   "source": [
    "Karena TIDAK ADA DATA sebenarnya tidak termasuk dalam kategori indeks udara, maka row dengan data TIDAK ADA DATA dalam column 'categori' akan kami drop."
   ]
  },
  {
   "cell_type": "code",
   "execution_count": 20,
   "id": "7193a167",
   "metadata": {
    "scrolled": false
   },
   "outputs": [
    {
     "data": {
      "text/plain": [
       "SEDANG         0.717295\n",
       "BAIK           0.246665\n",
       "TIDAK SEHAT    0.036040\n",
       "Name: categori, dtype: float64"
      ]
     },
     "execution_count": 20,
     "metadata": {},
     "output_type": "execute_result"
    }
   ],
   "source": [
    "df['categori'].value_counts(normalize = True)"
   ]
  },
  {
   "cell_type": "markdown",
   "id": "fe5ffd45",
   "metadata": {},
   "source": [
    "Setelah data selesai didrop, kami melihat distribusi column 'categori' kembali. Dari data di atas, dapat kami simpulkan bahwa kategori SEDANG memiliki bagian paling banyak dalam distribusi tersebut (71%)."
   ]
  },
  {
   "cell_type": "code",
   "execution_count": 21,
   "id": "990b5bdd",
   "metadata": {},
   "outputs": [
    {
     "data": {
      "image/png": "[encoded data removed]",
      "text/plain": [
       "<Figure size 800x600 with 1 Axes>"
      ]
     },
     "metadata": {},
     "output_type": "display_data"
    }
   ],
   "source": [
    "# Count the occurrences of each class\n",
    "class_distribution = df['categori'].value_counts()\n",
    "\n",
    "# Plot the bar chart\n",
    "plt.figure(figsize=(8, 6))\n",
    "class_distribution.plot(kind='bar', color='skyblue')\n",
    "plt.xlabel('Class Labels')\n",
    "plt.ylabel('Count')\n",
    "plt.title('Class Distribution in the Dataset')\n",
    "plt.xticks(rotation=45, ha='right')  # Rotate x-axis labels for better visibility\n",
    "plt.show()"
   ]
  },
  {
   "cell_type": "code",
   "execution_count": 22,
   "id": "bef728b7",
   "metadata": {
    "scrolled": true
   },
   "outputs": [
    {
     "data": {
      "image/png": "[encoded data removed]",
      "text/plain": [
       "<Figure size 640x480 with 1 Axes>"
      ]
     },
     "metadata": {},
     "output_type": "display_data"
    }
   ],
   "source": [
    "# check outliers\n",
    "import matplotlib.pyplot as plt\n",
    "box_plot = df.boxplot(column=['pm10', 'so2',  'co', 'o3', 'no2'])\n",
    "plt.show()"
   ]
  },
  {
   "cell_type": "code",
   "execution_count": 23,
   "id": "8e5c8929",
   "metadata": {},
   "outputs": [
    {
     "data": {
      "image/png": "[encoded data removed]",
      "text/plain": [
       "<Figure size 640x480 with 2 Axes>"
      ]
     },
     "metadata": {},
     "output_type": "display_data"
    }
   ],
   "source": [
    "# plot heatmap to find out the correlation of variables\n",
    "import seaborn as sns\n",
    "import matplotlib.pyplot as plt\n",
    "\n",
    "correlation_matrix = df.corr()\n",
    "sns.heatmap(correlation_matrix, annot=True, cmap='coolwarm', fmt=\".2f\")\n",
    "plt.show()"
   ]
  },
  {
   "cell_type": "code",
   "execution_count": 24,
   "id": "7a631b44",
   "metadata": {},
   "outputs": [],
   "source": [
    "input_df = df.drop('categori', axis=1)\n",
    "output_df = df['categori']"
   ]
  },
  {
   "cell_type": "code",
   "execution_count": 25,
   "id": "832c9938",
   "metadata": {},
   "outputs": [],
   "source": [
    "#split dataset to training and testing\n",
    "from sklearn.model_selection import train_test_split\n",
    "x_train, x_test, y_train, y_test = train_test_split(input_df, output_df, test_size = 0.2, random_state = 42)"
   ]
  },
  {
   "cell_type": "markdown",
   "id": "b202e8bd",
   "metadata": {},
   "source": [
    "# Handling missing values"
   ]
  },
  {
   "cell_type": "code",
   "execution_count": 26,
   "id": "e2279efc",
   "metadata": {},
   "outputs": [
    {
     "name": "stdout",
     "output_type": "stream",
     "text": [
      "Median pm10: 55.0\n",
      "Median so2: 18.0\n",
      "Median co: 24.0\n",
      "Median o3: 46.0\n",
      "Median no2: 14.0\n"
     ]
    }
   ],
   "source": [
    "print(\"Median pm10:\", np.nanmedian(x_train['pm10']))\n",
    "print(\"Median so2:\", np.nanmedian(x_train['so2']))\n",
    "print(\"Median co:\", np.nanmedian(x_train['co']))\n",
    "print(\"Median o3:\", np.nanmedian(x_train['o3']))\n",
    "print(\"Median no2:\", np.nanmedian(x_train['no2']))"
   ]
  },
  {
   "cell_type": "markdown",
   "id": "ec8473ae",
   "metadata": {},
   "source": [
    "Karena columns dengan missing value memiliki outliers semua, maka kami akan menggunakan median untuk mengisi missing values tersebut (median hanya diambil data training)."
   ]
  },
  {
   "cell_type": "code",
   "execution_count": 27,
   "id": "52db0f06",
   "metadata": {},
   "outputs": [],
   "source": [
    "#Impute missing value with median, both train and test data\n",
    "x_train['pm10'].fillna(55, inplace=True)\n",
    "x_test['pm10'].fillna(55, inplace=True)\n",
    "\n",
    "x_train['so2'].fillna(18, inplace=True)\n",
    "x_test['so2'].fillna(18, inplace=True)\n",
    "\n",
    "x_train['co'].fillna(24, inplace=True)\n",
    "x_test['co'].fillna(24, inplace=True)\n",
    "\n",
    "x_train['o3'].fillna(46, inplace=True)\n",
    "x_test['o3'].fillna(46, inplace=True)\n",
    "\n",
    "x_train['no2'].fillna(14, inplace=True)\n",
    "x_test['no2'].fillna(14, inplace=True)"
   ]
  },
  {
   "cell_type": "code",
   "execution_count": 28,
   "id": "eb60a2b0",
   "metadata": {
    "scrolled": true
   },
   "outputs": [
    {
     "name": "stdout",
     "output_type": "stream",
     "text": [
      "<class 'pandas.core.frame.DataFrame'>\n",
      "Int64Index: 3418 entries, 1920 to 879\n",
      "Data columns (total 5 columns):\n",
      " #   Column  Non-Null Count  Dtype  \n",
      "---  ------  --------------  -----  \n",
      " 0   pm10    3418 non-null   float64\n",
      " 1   so2     3418 non-null   float64\n",
      " 2   co      3418 non-null   float64\n",
      " 3   o3      3418 non-null   float64\n",
      " 4   no2     3418 non-null   float64\n",
      "dtypes: float64(5)\n",
      "memory usage: 160.2 KB\n",
      "<class 'pandas.core.frame.DataFrame'>\n",
      "Int64Index: 855 entries, 1495 to 4019\n",
      "Data columns (total 5 columns):\n",
      " #   Column  Non-Null Count  Dtype  \n",
      "---  ------  --------------  -----  \n",
      " 0   pm10    855 non-null    float64\n",
      " 1   so2     855 non-null    float64\n",
      " 2   co      855 non-null    float64\n",
      " 3   o3      855 non-null    float64\n",
      " 4   no2     855 non-null    float64\n",
      "dtypes: float64(5)\n",
      "memory usage: 40.1 KB\n"
     ]
    }
   ],
   "source": [
    "# check the train and test data\n",
    "x_train.info()\n",
    "x_test.info()"
   ]
  },
  {
   "cell_type": "code",
   "execution_count": 38,
   "id": "147d26bd",
   "metadata": {},
   "outputs": [
    {
     "data": {
      "application/vnd.plotly.v1+json": {
       "config": {
        "plotlyServerURL": "https://plot.ly"
       },
       "data": [
        {
         "alignmentgroup": "True",
         "hovertemplate": "Importance=%{x}<br>Feature=%{y}<extra></extra>",
         "legendgroup": "",
         "marker": {
          "color": "#636efa",
          "pattern": {
           "shape": ""
          }
         },
         "name": "",
         "offsetgroup": "",
         "orientation": "h",
         "showlegend": false,
         "textposition": "auto",
         "type": "bar",
         "x": [
          0.4919128108203411,
          0.4355400399728405,
          0.044108577578664765,
          0.016893575910942205,
          0.011544995717211584
         ],
         "xaxis": "x",
         "y": [
          "pm10",
          "o3",
          "no2",
          "co",
          "so2"
         ],
         "yaxis": "y"
        }
       ],
       "layout": {
        "barmode": "relative",
        "legend": {
         "tracegroupgap": 0
        },
        "template": {
         "data": {
          "bar": [
           {
            "error_x": {
             "color": "#2a3f5f"
            },
            "error_y": {
             "color": "#2a3f5f"
            },
            "marker": {
             "line": {
              "color": "#E5ECF6",
              "width": 0.5
             },
             "pattern": {
              "fillmode": "overlay",
              "size": 10,
              "solidity": 0.2
             }
            },
            "type": "bar"
           }
          ],
          "barpolar": [
           {
            "marker": {
             "line": {
              "color": "#E5ECF6",
              "width": 0.5
             },
             "pattern": {
              "fillmode": "overlay",
              "size": 10,
              "solidity": 0.2
             }
            },
            "type": "barpolar"
           }
          ],
          "carpet": [
           {
            "aaxis": {
             "endlinecolor": "#2a3f5f",
             "gridcolor": "white",
             "linecolor": "white",
             "minorgridcolor": "white",
             "startlinecolor": "#2a3f5f"
            },
            "baxis": {
             "endlinecolor": "#2a3f5f",
             "gridcolor": "white",
             "linecolor": "white",
             "minorgridcolor": "white",
             "startlinecolor": "#2a3f5f"
            },
            "type": "carpet"
           }
          ],
          "choropleth": [
           {
            "colorbar": {
             "outlinewidth": 0,
             "ticks": ""
            },
            "type": "choropleth"
           }
          ],
          "contour": [
           {
            "colorbar": {
             "outlinewidth": 0,
             "ticks": ""
            },
            "colorscale": [
             [
              0,
              "#0d0887"
             ],
             [
              0.1111111111111111,
              "#46039f"
             ],
             [
              0.2222222222222222,
              "#7201a8"
             ],
             [
              0.3333333333333333,
              "#9c179e"
             ],
             [
              0.4444444444444444,
              "#bd3786"
             ],
             [
              0.5555555555555556,
              "#d8576b"
             ],
             [
              0.6666666666666666,
              "#ed7953"
             ],
             [
              0.7777777777777778,
              "#fb9f3a"
             ],
             [
              0.8888888888888888,
              "#fdca26"
             ],
             [
              1,
              "#f0f921"
             ]
            ],
            "type": "contour"
           }
          ],
          "contourcarpet": [
           {
            "colorbar": {
             "outlinewidth": 0,
             "ticks": ""
            },
            "type": "contourcarpet"
           }
          ],
          "heatmap": [
           {
            "colorbar": {
             "outlinewidth": 0,
             "ticks": ""
            },
            "colorscale": [
             [
              0,
              "#0d0887"
             ],
             [
              0.1111111111111111,
              "#46039f"
             ],
             [
              0.2222222222222222,
              "#7201a8"
             ],
             [
              0.3333333333333333,
              "#9c179e"
             ],
             [
              0.4444444444444444,
              "#bd3786"
             ],
             [
              0.5555555555555556,
              "#d8576b"
             ],
             [
              0.6666666666666666,
              "#ed7953"
             ],
             [
              0.7777777777777778,
              "#fb9f3a"
             ],
             [
              0.8888888888888888,
              "#fdca26"
             ],
             [
              1,
              "#f0f921"
             ]
            ],
            "type": "heatmap"
           }
          ],
          "heatmapgl": [
           {
            "colorbar": {
             "outlinewidth": 0,
             "ticks": ""
            },
            "colorscale": [
             [
              0,
              "#0d0887"
             ],
             [
              0.1111111111111111,
              "#46039f"
             ],
             [
              0.2222222222222222,
              "#7201a8"
             ],
             [
              0.3333333333333333,
              "#9c179e"
             ],
             [
              0.4444444444444444,
              "#bd3786"
             ],
             [
              0.5555555555555556,
              "#d8576b"
             ],
             [
              0.6666666666666666,
              "#ed7953"
             ],
             [
              0.7777777777777778,
              "#fb9f3a"
             ],
             [
              0.8888888888888888,
              "#fdca26"
             ],
             [
              1,
              "#f0f921"
             ]
            ],
            "type": "heatmapgl"
           }
          ],
          "histogram": [
           {
            "marker": {
             "pattern": {
              "fillmode": "overlay",
              "size": 10,
              "solidity": 0.2
             }
            },
            "type": "histogram"
           }
          ],
          "histogram2d": [
           {
            "colorbar": {
             "outlinewidth": 0,
             "ticks": ""
            },
            "colorscale": [
             [
              0,
              "#0d0887"
             ],
             [
              0.1111111111111111,
              "#46039f"
             ],
             [
              0.2222222222222222,
              "#7201a8"
             ],
             [
              0.3333333333333333,
              "#9c179e"
             ],
             [
              0.4444444444444444,
              "#bd3786"
             ],
             [
              0.5555555555555556,
              "#d8576b"
             ],
             [
              0.6666666666666666,
              "#ed7953"
             ],
             [
              0.7777777777777778,
              "#fb9f3a"
             ],
             [
              0.8888888888888888,
              "#fdca26"
             ],
             [
              1,
              "#f0f921"
             ]
            ],
            "type": "histogram2d"
           }
          ],
          "histogram2dcontour": [
           {
            "colorbar": {
             "outlinewidth": 0,
             "ticks": ""
            },
            "colorscale": [
             [
              0,
              "#0d0887"
             ],
             [
              0.1111111111111111,
              "#46039f"
             ],
             [
              0.2222222222222222,
              "#7201a8"
             ],
             [
              0.3333333333333333,
              "#9c179e"
             ],
             [
              0.4444444444444444,
              "#bd3786"
             ],
             [
              0.5555555555555556,
              "#d8576b"
             ],
             [
              0.6666666666666666,
              "#ed7953"
             ],
             [
              0.7777777777777778,
              "#fb9f3a"
             ],
             [
              0.8888888888888888,
              "#fdca26"
             ],
             [
              1,
              "#f0f921"
             ]
            ],
            "type": "histogram2dcontour"
           }
          ],
          "mesh3d": [
           {
            "colorbar": {
             "outlinewidth": 0,
             "ticks": ""
            },
            "type": "mesh3d"
           }
          ],
          "parcoords": [
           {
            "line": {
             "colorbar": {
              "outlinewidth": 0,
              "ticks": ""
             }
            },
            "type": "parcoords"
           }
          ],
          "pie": [
           {
            "automargin": true,
            "type": "pie"
           }
          ],
          "scatter": [
           {
            "fillpattern": {
             "fillmode": "overlay",
             "size": 10,
             "solidity": 0.2
            },
            "type": "scatter"
           }
          ],
          "scatter3d": [
           {
            "line": {
             "colorbar": {
              "outlinewidth": 0,
              "ticks": ""
             }
            },
            "marker": {
             "colorbar": {
              "outlinewidth": 0,
              "ticks": ""
             }
            },
            "type": "scatter3d"
           }
          ],
          "scattercarpet": [
           {
            "marker": {
             "colorbar": {
              "outlinewidth": 0,
              "ticks": ""
             }
            },
            "type": "scattercarpet"
           }
          ],
          "scattergeo": [
           {
            "marker": {
             "colorbar": {
              "outlinewidth": 0,
              "ticks": ""
             }
            },
            "type": "scattergeo"
           }
          ],
          "scattergl": [
           {
            "marker": {
             "colorbar": {
              "outlinewidth": 0,
              "ticks": ""
             }
            },
            "type": "scattergl"
           }
          ],
          "scattermapbox": [
           {
            "marker": {
             "colorbar": {
              "outlinewidth": 0,
              "ticks": ""
             }
            },
            "type": "scattermapbox"
           }
          ],
          "scatterpolar": [
           {
            "marker": {
             "colorbar": {
              "outlinewidth": 0,
              "ticks": ""
             }
            },
            "type": "scatterpolar"
           }
          ],
          "scatterpolargl": [
           {
            "marker": {
             "colorbar": {
              "outlinewidth": 0,
              "ticks": ""
             }
            },
            "type": "scatterpolargl"
           }
          ],
          "scatterternary": [
           {
            "marker": {
             "colorbar": {
              "outlinewidth": 0,
              "ticks": ""
             }
            },
            "type": "scatterternary"
           }
          ],
          "surface": [
           {
            "colorbar": {
             "outlinewidth": 0,
             "ticks": ""
            },
            "colorscale": [
             [
              0,
              "#0d0887"
             ],
             [
              0.1111111111111111,
              "#46039f"
             ],
             [
              0.2222222222222222,
              "#7201a8"
             ],
             [
              0.3333333333333333,
              "#9c179e"
             ],
             [
              0.4444444444444444,
              "#bd3786"
             ],
             [
              0.5555555555555556,
              "#d8576b"
             ],
             [
              0.6666666666666666,
              "#ed7953"
             ],
             [
              0.7777777777777778,
              "#fb9f3a"
             ],
             [
              0.8888888888888888,
              "#fdca26"
             ],
             [
              1,
              "#f0f921"
             ]
            ],
            "type": "surface"
           }
          ],
          "table": [
           {
            "cells": {
             "fill": {
              "color": "#EBF0F8"
             },
             "line": {
              "color": "white"
             }
            },
            "header": {
             "fill": {
              "color": "#C8D4E3"
             },
             "line": {
              "color": "white"
             }
            },
            "type": "table"
           }
          ]
         },
         "layout": {
          "annotationdefaults": {
           "arrowcolor": "#2a3f5f",
           "arrowhead": 0,
           "arrowwidth": 1
          },
          "autotypenumbers": "strict",
          "coloraxis": {
           "colorbar": {
            "outlinewidth": 0,
            "ticks": ""
           }
          },
          "colorscale": {
           "diverging": [
            [
             0,
             "#8e0152"
            ],
            [
             0.1,
             "#c51b7d"
            ],
            [
             0.2,
             "#de77ae"
            ],
            [
             0.3,
             "#f1b6da"
            ],
            [
             0.4,
             "#fde0ef"
            ],
            [
             0.5,
             "#f7f7f7"
            ],
            [
             0.6,
             "#e6f5d0"
            ],
            [
             0.7,
             "#b8e186"
            ],
            [
             0.8,
             "#7fbc41"
            ],
            [
             0.9,
             "#4d9221"
            ],
            [
             1,
             "#276419"
            ]
           ],
           "sequential": [
            [
             0,
             "#0d0887"
            ],
            [
             0.1111111111111111,
             "#46039f"
            ],
            [
             0.2222222222222222,
             "#7201a8"
            ],
            [
             0.3333333333333333,
             "#9c179e"
            ],
            [
             0.4444444444444444,
             "#bd3786"
            ],
            [
             0.5555555555555556,
             "#d8576b"
            ],
            [
             0.6666666666666666,
             "#ed7953"
            ],
            [
             0.7777777777777778,
             "#fb9f3a"
            ],
            [
             0.8888888888888888,
             "#fdca26"
            ],
            [
             1,
             "#f0f921"
            ]
           ],
           "sequentialminus": [
            [
             0,
             "#0d0887"
            ],
            [
             0.1111111111111111,
             "#46039f"
            ],
            [
             0.2222222222222222,
             "#7201a8"
            ],
            [
             0.3333333333333333,
             "#9c179e"
            ],
            [
             0.4444444444444444,
             "#bd3786"
            ],
            [
             0.5555555555555556,
             "#d8576b"
            ],
            [
             0.6666666666666666,
             "#ed7953"
            ],
            [
             0.7777777777777778,
             "#fb9f3a"
            ],
            [
             0.8888888888888888,
             "#fdca26"
            ],
            [
             1,
             "#f0f921"
            ]
           ]
          },
          "colorway": [
           "#636efa",
           "#EF553B",
           "#00cc96",
           "#ab63fa",
           "#FFA15A",
           "#19d3f3",
           "#FF6692",
           "#B6E880",
           "#FF97FF",
           "#FECB52"
          ],
          "font": {
           "color": "#2a3f5f"
          },
          "geo": {
           "bgcolor": "white",
           "lakecolor": "white",
           "landcolor": "#E5ECF6",
           "showlakes": true,
           "showland": true,
           "subunitcolor": "white"
          },
          "hoverlabel": {
           "align": "left"
          },
          "hovermode": "closest",
          "mapbox": {
           "style": "light"
          },
          "paper_bgcolor": "white",
          "plot_bgcolor": "#E5ECF6",
          "polar": {
           "angularaxis": {
            "gridcolor": "white",
            "linecolor": "white",
            "ticks": ""
           },
           "bgcolor": "#E5ECF6",
           "radialaxis": {
            "gridcolor": "white",
            "linecolor": "white",
            "ticks": ""
           }
          },
          "scene": {
           "xaxis": {
            "backgroundcolor": "#E5ECF6",
            "gridcolor": "white",
            "gridwidth": 2,
            "linecolor": "white",
            "showbackground": true,
            "ticks": "",
            "zerolinecolor": "white"
           },
           "yaxis": {
            "backgroundcolor": "#E5ECF6",
            "gridcolor": "white",
            "gridwidth": 2,
            "linecolor": "white",
            "showbackground": true,
            "ticks": "",
            "zerolinecolor": "white"
           },
           "zaxis": {
            "backgroundcolor": "#E5ECF6",
            "gridcolor": "white",
            "gridwidth": 2,
            "linecolor": "white",
            "showbackground": true,
            "ticks": "",
            "zerolinecolor": "white"
           }
          },
          "shapedefaults": {
           "line": {
            "color": "#2a3f5f"
           }
          },
          "ternary": {
           "aaxis": {
            "gridcolor": "white",
            "linecolor": "white",
            "ticks": ""
           },
           "baxis": {
            "gridcolor": "white",
            "linecolor": "white",
            "ticks": ""
           },
           "bgcolor": "#E5ECF6",
           "caxis": {
            "gridcolor": "white",
            "linecolor": "white",
            "ticks": ""
           }
          },
          "title": {
           "x": 0.05
          },
          "xaxis": {
           "automargin": true,
           "gridcolor": "white",
           "linecolor": "white",
           "ticks": "",
           "title": {
            "standoff": 15
           },
           "zerolinecolor": "white",
           "zerolinewidth": 2
          },
          "yaxis": {
           "automargin": true,
           "gridcolor": "white",
           "linecolor": "white",
           "ticks": "",
           "title": {
            "standoff": 15
           },
           "zerolinecolor": "white",
           "zerolinewidth": 2
          }
         }
        },
        "title": {
         "text": "Feature Importance"
        },
        "xaxis": {
         "anchor": "y",
         "domain": [
          0,
          1
         ],
         "title": {
          "text": "Importance"
         }
        },
        "yaxis": {
         "anchor": "x",
         "domain": [
          0,
          1
         ],
         "title": {
          "text": "Feature"
         }
        }
       }
      },
      "text/html": [
       "<div>                            <div id=\"f2dc0006-a06f-446a-81fb-1f3f1b47de06\" class=\"plotly-graph-div\" style=\"height:525px; width:100%;\"></div>            <script type=\"text/javascript\">                require([\"plotly\"], function(Plotly) {                    window.PLOTLYENV=window.PLOTLYENV || {};                                    if (document.getElementById(\"f2dc0006-a06f-446a-81fb-1f3f1b47de06\")) {                    Plotly.newPlot(                        \"f2dc0006-a06f-446a-81fb-1f3f1b47de06\",                        [{\"alignmentgroup\":\"True\",\"hovertemplate\":\"Importance=%{x}<br>Feature=%{y}<extra></extra>\",\"legendgroup\":\"\",\"marker\":{\"color\":\"#636efa\",\"pattern\":{\"shape\":\"\"}},\"name\":\"\",\"offsetgroup\":\"\",\"orientation\":\"h\",\"showlegend\":false,\"textposition\":\"auto\",\"x\":[0.4919128108203411,0.4355400399728405,0.044108577578664765,0.016893575910942205,0.011544995717211584],\"xaxis\":\"x\",\"y\":[\"pm10\",\"o3\",\"no2\",\"co\",\"so2\"],\"yaxis\":\"y\",\"type\":\"bar\"}],                        {\"template\":{\"data\":{\"histogram2dcontour\":[{\"type\":\"histogram2dcontour\",\"colorbar\":{\"outlinewidth\":0,\"ticks\":\"\"},\"colorscale\":[[0.0,\"#0d0887\"],[0.1111111111111111,\"#46039f\"],[0.2222222222222222,\"#7201a8\"],[0.3333333333333333,\"#9c179e\"],[0.4444444444444444,\"#bd3786\"],[0.5555555555555556,\"#d8576b\"],[0.6666666666666666,\"#ed7953\"],[0.7777777777777778,\"#fb9f3a\"],[0.8888888888888888,\"#fdca26\"],[1.0,\"#f0f921\"]]}],\"choropleth\":[{\"type\":\"choropleth\",\"colorbar\":{\"outlinewidth\":0,\"ticks\":\"\"}}],\"histogram2d\":[{\"type\":\"histogram2d\",\"colorbar\":{\"outlinewidth\":0,\"ticks\":\"\"},\"colorscale\":[[0.0,\"#0d0887\"],[0.1111111111111111,\"#46039f\"],[0.2222222222222222,\"#7201a8\"],[0.3333333333333333,\"#9c179e\"],[0.4444444444444444,\"#bd3786\"],[0.5555555555555556,\"#d8576b\"],[0.6666666666666666,\"#ed7953\"],[0.7777777777777778,\"#fb9f3a\"],[0.8888888888888888,\"#fdca26\"],[1.0,\"#f0f921\"]]}],\"heatmap\":[{\"type\":\"heatmap\",\"colorbar\":{\"outlinewidth\":0,\"ticks\":\"\"},\"colorscale\":[[0.0,\"#0d0887\"],[0.1111111111111111,\"#46039f\"],[0.2222222222222222,\"#7201a8\"],[0.3333333333333333,\"#9c179e\"],[0.4444444444444444,\"#bd3786\"],[0.5555555555555556,\"#d8576b\"],[0.6666666666666666,\"#ed7953\"],[0.7777777777777778,\"#fb9f3a\"],[0.8888888888888888,\"#fdca26\"],[1.0,\"#f0f921\"]]}],\"heatmapgl\":[{\"type\":\"heatmapgl\",\"colorbar\":{\"outlinewidth\":0,\"ticks\":\"\"},\"colorscale\":[[0.0,\"#0d0887\"],[0.1111111111111111,\"#46039f\"],[0.2222222222222222,\"#7201a8\"],[0.3333333333333333,\"#9c179e\"],[0.4444444444444444,\"#bd3786\"],[0.5555555555555556,\"#d8576b\"],[0.6666666666666666,\"#ed7953\"],[0.7777777777777778,\"#fb9f3a\"],[0.8888888888888888,\"#fdca26\"],[1.0,\"#f0f921\"]]}],\"contourcarpet\":[{\"type\":\"contourcarpet\",\"colorbar\":{\"outlinewidth\":0,\"ticks\":\"\"}}],\"contour\":[{\"type\":\"contour\",\"colorbar\":{\"outlinewidth\":0,\"ticks\":\"\"},\"colorscale\":[[0.0,\"#0d0887\"],[0.1111111111111111,\"#46039f\"],[0.2222222222222222,\"#7201a8\"],[0.3333333333333333,\"#9c179e\"],[0.4444444444444444,\"#bd3786\"],[0.5555555555555556,\"#d8576b\"],[0.6666666666666666,\"#ed7953\"],[0.7777777777777778,\"#fb9f3a\"],[0.8888888888888888,\"#fdca26\"],[1.0,\"#f0f921\"]]}],\"surface\":[{\"type\":\"surface\",\"colorbar\":{\"outlinewidth\":0,\"ticks\":\"\"},\"colorscale\":[[0.0,\"#0d0887\"],[0.1111111111111111,\"#46039f\"],[0.2222222222222222,\"#7201a8\"],[0.3333333333333333,\"#9c179e\"],[0.4444444444444444,\"#bd3786\"],[0.5555555555555556,\"#d8576b\"],[0.6666666666666666,\"#ed7953\"],[0.7777777777777778,\"#fb9f3a\"],[0.8888888888888888,\"#fdca26\"],[1.0,\"#f0f921\"]]}],\"mesh3d\":[{\"type\":\"mesh3d\",\"colorbar\":{\"outlinewidth\":0,\"ticks\":\"\"}}],\"scatter\":[{\"fillpattern\":{\"fillmode\":\"overlay\",\"size\":10,\"solidity\":0.2},\"type\":\"scatter\"}],\"parcoords\":[{\"type\":\"parcoords\",\"line\":{\"colorbar\":{\"outlinewidth\":0,\"ticks\":\"\"}}}],\"scatterpolargl\":[{\"type\":\"scatterpolargl\",\"marker\":{\"colorbar\":{\"outlinewidth\":0,\"ticks\":\"\"}}}],\"bar\":[{\"error_x\":{\"color\":\"#2a3f5f\"},\"error_y\":{\"color\":\"#2a3f5f\"},\"marker\":{\"line\":{\"color\":\"#E5ECF6\",\"width\":0.5},\"pattern\":{\"fillmode\":\"overlay\",\"size\":10,\"solidity\":0.2}},\"type\":\"bar\"}],\"scattergeo\":[{\"type\":\"scattergeo\",\"marker\":{\"colorbar\":{\"outlinewidth\":0,\"ticks\":\"\"}}}],\"scatterpolar\":[{\"type\":\"scatterpolar\",\"marker\":{\"colorbar\":{\"outlinewidth\":0,\"ticks\":\"\"}}}],\"histogram\":[{\"marker\":{\"pattern\":{\"fillmode\":\"overlay\",\"size\":10,\"solidity\":0.2}},\"type\":\"histogram\"}],\"scattergl\":[{\"type\":\"scattergl\",\"marker\":{\"colorbar\":{\"outlinewidth\":0,\"ticks\":\"\"}}}],\"scatter3d\":[{\"type\":\"scatter3d\",\"line\":{\"colorbar\":{\"outlinewidth\":0,\"ticks\":\"\"}},\"marker\":{\"colorbar\":{\"outlinewidth\":0,\"ticks\":\"\"}}}],\"scattermapbox\":[{\"type\":\"scattermapbox\",\"marker\":{\"colorbar\":{\"outlinewidth\":0,\"ticks\":\"\"}}}],\"scatterternary\":[{\"type\":\"scatterternary\",\"marker\":{\"colorbar\":{\"outlinewidth\":0,\"ticks\":\"\"}}}],\"scattercarpet\":[{\"type\":\"scattercarpet\",\"marker\":{\"colorbar\":{\"outlinewidth\":0,\"ticks\":\"\"}}}],\"carpet\":[{\"aaxis\":{\"endlinecolor\":\"#2a3f5f\",\"gridcolor\":\"white\",\"linecolor\":\"white\",\"minorgridcolor\":\"white\",\"startlinecolor\":\"#2a3f5f\"},\"baxis\":{\"endlinecolor\":\"#2a3f5f\",\"gridcolor\":\"white\",\"linecolor\":\"white\",\"minorgridcolor\":\"white\",\"startlinecolor\":\"#2a3f5f\"},\"type\":\"carpet\"}],\"table\":[{\"cells\":{\"fill\":{\"color\":\"#EBF0F8\"},\"line\":{\"color\":\"white\"}},\"header\":{\"fill\":{\"color\":\"#C8D4E3\"},\"line\":{\"color\":\"white\"}},\"type\":\"table\"}],\"barpolar\":[{\"marker\":{\"line\":{\"color\":\"#E5ECF6\",\"width\":0.5},\"pattern\":{\"fillmode\":\"overlay\",\"size\":10,\"solidity\":0.2}},\"type\":\"barpolar\"}],\"pie\":[{\"automargin\":true,\"type\":\"pie\"}]},\"layout\":{\"autotypenumbers\":\"strict\",\"colorway\":[\"#636efa\",\"#EF553B\",\"#00cc96\",\"#ab63fa\",\"#FFA15A\",\"#19d3f3\",\"#FF6692\",\"#B6E880\",\"#FF97FF\",\"#FECB52\"],\"font\":{\"color\":\"#2a3f5f\"},\"hovermode\":\"closest\",\"hoverlabel\":{\"align\":\"left\"},\"paper_bgcolor\":\"white\",\"plot_bgcolor\":\"#E5ECF6\",\"polar\":{\"bgcolor\":\"#E5ECF6\",\"angularaxis\":{\"gridcolor\":\"white\",\"linecolor\":\"white\",\"ticks\":\"\"},\"radialaxis\":{\"gridcolor\":\"white\",\"linecolor\":\"white\",\"ticks\":\"\"}},\"ternary\":{\"bgcolor\":\"#E5ECF6\",\"aaxis\":{\"gridcolor\":\"white\",\"linecolor\":\"white\",\"ticks\":\"\"},\"baxis\":{\"gridcolor\":\"white\",\"linecolor\":\"white\",\"ticks\":\"\"},\"caxis\":{\"gridcolor\":\"white\",\"linecolor\":\"white\",\"ticks\":\"\"}},\"coloraxis\":{\"colorbar\":{\"outlinewidth\":0,\"ticks\":\"\"}},\"colorscale\":{\"sequential\":[[0.0,\"#0d0887\"],[0.1111111111111111,\"#46039f\"],[0.2222222222222222,\"#7201a8\"],[0.3333333333333333,\"#9c179e\"],[0.4444444444444444,\"#bd3786\"],[0.5555555555555556,\"#d8576b\"],[0.6666666666666666,\"#ed7953\"],[0.7777777777777778,\"#fb9f3a\"],[0.8888888888888888,\"#fdca26\"],[1.0,\"#f0f921\"]],\"sequentialminus\":[[0.0,\"#0d0887\"],[0.1111111111111111,\"#46039f\"],[0.2222222222222222,\"#7201a8\"],[0.3333333333333333,\"#9c179e\"],[0.4444444444444444,\"#bd3786\"],[0.5555555555555556,\"#d8576b\"],[0.6666666666666666,\"#ed7953\"],[0.7777777777777778,\"#fb9f3a\"],[0.8888888888888888,\"#fdca26\"],[1.0,\"#f0f921\"]],\"diverging\":[[0,\"#8e0152\"],[0.1,\"#c51b7d\"],[0.2,\"#de77ae\"],[0.3,\"#f1b6da\"],[0.4,\"#fde0ef\"],[0.5,\"#f7f7f7\"],[0.6,\"#e6f5d0\"],[0.7,\"#b8e186\"],[0.8,\"#7fbc41\"],[0.9,\"#4d9221\"],[1,\"#276419\"]]},\"xaxis\":{\"gridcolor\":\"white\",\"linecolor\":\"white\",\"ticks\":\"\",\"title\":{\"standoff\":15},\"zerolinecolor\":\"white\",\"automargin\":true,\"zerolinewidth\":2},\"yaxis\":{\"gridcolor\":\"white\",\"linecolor\":\"white\",\"ticks\":\"\",\"title\":{\"standoff\":15},\"zerolinecolor\":\"white\",\"automargin\":true,\"zerolinewidth\":2},\"scene\":{\"xaxis\":{\"backgroundcolor\":\"#E5ECF6\",\"gridcolor\":\"white\",\"linecolor\":\"white\",\"showbackground\":true,\"ticks\":\"\",\"zerolinecolor\":\"white\",\"gridwidth\":2},\"yaxis\":{\"backgroundcolor\":\"#E5ECF6\",\"gridcolor\":\"white\",\"linecolor\":\"white\",\"showbackground\":true,\"ticks\":\"\",\"zerolinecolor\":\"white\",\"gridwidth\":2},\"zaxis\":{\"backgroundcolor\":\"#E5ECF6\",\"gridcolor\":\"white\",\"linecolor\":\"white\",\"showbackground\":true,\"ticks\":\"\",\"zerolinecolor\":\"white\",\"gridwidth\":2}},\"shapedefaults\":{\"line\":{\"color\":\"#2a3f5f\"}},\"annotationdefaults\":{\"arrowcolor\":\"#2a3f5f\",\"arrowhead\":0,\"arrowwidth\":1},\"geo\":{\"bgcolor\":\"white\",\"landcolor\":\"#E5ECF6\",\"subunitcolor\":\"white\",\"showland\":true,\"showlakes\":true,\"lakecolor\":\"white\"},\"title\":{\"x\":0.05},\"mapbox\":{\"style\":\"light\"}}},\"xaxis\":{\"anchor\":\"y\",\"domain\":[0.0,1.0],\"title\":{\"text\":\"Importance\"}},\"yaxis\":{\"anchor\":\"x\",\"domain\":[0.0,1.0],\"title\":{\"text\":\"Feature\"}},\"legend\":{\"tracegroupgap\":0},\"title\":{\"text\":\"Feature Importance\"},\"barmode\":\"relative\"},                        {\"responsive\": true}                    ).then(function(){\n",
       "                            \n",
       "var gd = document.getElementById('f2dc0006-a06f-446a-81fb-1f3f1b47de06');\n",
       "var x = new MutationObserver(function (mutations, observer) {{\n",
       "        var display = window.getComputedStyle(gd).display;\n",
       "        if (!display || display === 'none') {{\n",
       "            console.log([gd, 'removed!']);\n",
       "            Plotly.purge(gd);\n",
       "            observer.disconnect();\n",
       "        }}\n",
       "}});\n",
       "\n",
       "// Listen for the removal of the full notebook cells\n",
       "var notebookContainer = gd.closest('#notebook-container');\n",
       "if (notebookContainer) {{\n",
       "    x.observe(notebookContainer, {childList: true});\n",
       "}}\n",
       "\n",
       "// Listen for the clearing of the current output cell\n",
       "var outputEl = gd.closest('.output');\n",
       "if (outputEl) {{\n",
       "    x.observe(outputEl, {childList: true});\n",
       "}}\n",
       "\n",
       "                        })                };                });            </script>        </div>"
      ]
     },
     "metadata": {},
     "output_type": "display_data"
    }
   ],
   "source": [
    "import plotly.express as px\n",
    "\n",
    "model = GradientBoostingClassifier()\n",
    "model.fit(x_train, y_train)\n",
    "\n",
    "# Get feature importances\n",
    "feature_importances = model.feature_importances_\n",
    "\n",
    "# Create a DataFrame with feature names and their importances\n",
    "feature_df = pd.DataFrame({'Feature': x_train.columns, 'Importance': feature_importances})\n",
    "\n",
    "# Sort the DataFrame by importance in descending order\n",
    "feature_df = feature_df.sort_values(by='Importance', ascending=False)\n",
    "\n",
    "# Plot feature importance\n",
    "fig = px.bar(feature_df, x='Importance', y='Feature', orientation='h', title='Feature Importance')\n",
    "fig.show()"
   ]
  },
  {
   "cell_type": "markdown",
   "id": "54bf8633",
   "metadata": {},
   "source": [
    "# Modelling and Evaluation"
   ]
  },
  {
   "cell_type": "code",
   "execution_count": 30,
   "id": "9cd1073d",
   "metadata": {
    "scrolled": false
   },
   "outputs": [
    {
     "name": "stdout",
     "output_type": "stream",
     "text": [
      "Training Dataset\n",
      "\n",
      "Accuracy: 100.0 %\n",
      "---------------\n",
      "Confusion matrix\n",
      "---------------\n",
      "[[ 846    0    0]\n",
      " [   0 2453    0]\n",
      " [   0    0  119]]\n",
      "---------------\n",
      "\n",
      "Decision Tree Classification report for Training Dataset\n",
      "               precision    recall  f1-score   support\n",
      "\n",
      "      SEDANG       1.00      1.00      1.00       846\n",
      "        BAIK       1.00      1.00      1.00      2453\n",
      " TIDAK SEHAT       1.00      1.00      1.00       119\n",
      "\n",
      "    accuracy                           1.00      3418\n",
      "   macro avg       1.00      1.00      1.00      3418\n",
      "weighted avg       1.00      1.00      1.00      3418\n",
      "\n",
      "\n",
      "--------------------------------------------------------------------------------------------------\n",
      "\n",
      "Testing Dataset\n",
      "\n",
      "Accuracy: 96.7 %\n",
      "---------------\n",
      "Confusion matrix\n",
      "---------------\n",
      "[[199   9   0]\n",
      " [ 14 597   1]\n",
      " [  0   4  31]]\n",
      "---------------\n",
      "\n",
      "Decision Tree Classification report for Testing Dataset\n",
      "               precision    recall  f1-score   support\n",
      "\n",
      "      SEDANG       0.93      0.96      0.95       208\n",
      "        BAIK       0.98      0.98      0.98       612\n",
      " TIDAK SEHAT       0.97      0.89      0.93        35\n",
      "\n",
      "    accuracy                           0.97       855\n",
      "   macro avg       0.96      0.94      0.95       855\n",
      "weighted avg       0.97      0.97      0.97       855\n",
      "\n"
     ]
    }
   ],
   "source": [
    "# fitting Decision Tree model on dataset\n",
    "DT_class = DecisionTreeClassifier()\n",
    "DT_class.fit(x_train, y_train)\n",
    "\n",
    "# Getting prediction on Training Dataset\n",
    "DT_trainpredict=DT_class.predict(x_train)\n",
    "# Computing Model Accuracy for Training Dataset\n",
    "print(\"Training Dataset\\n\")\n",
    "print(\"Accuracy:\",round(metrics.accuracy_score(y_train, DT_trainpredict),3) * 100, \"%\")\n",
    "print (\"---------------\")\n",
    "# Printing confusion matrix\n",
    "print (\"Confusion matrix\")\n",
    "print (\"---------------\")\n",
    "print(metrics.confusion_matrix(y_train, DT_trainpredict))\n",
    "# Model detailed classification report\n",
    "print (\"---------------\")\n",
    "print(\"\\nDecision Tree Classification report for Training Dataset\\n\", metrics.classification_report(y_train, DT_trainpredict,target_names =['SEDANG', 'BAIK', 'TIDAK SEHAT']))\n",
    "print(\"\\n--------------------------------------------------------------------------------------------------\\n\")\n",
    "\n",
    "# Getting prediction on train and test sets\n",
    "DT_predict=DT_class.predict(x_test)\n",
    "# Computing Model Accuracy for Testing Dataset\n",
    "print(\"Testing Dataset\\n\")\n",
    "print(\"Accuracy:\",round(metrics.accuracy_score(y_test, DT_predict),3) * 100, \"%\")\n",
    "print (\"---------------\")\n",
    "# Printing confusion matrix\n",
    "print (\"Confusion matrix\")\n",
    "print (\"---------------\")\n",
    "print(metrics.confusion_matrix(y_test, DT_predict))\n",
    "# Model detailed classification report\n",
    "print (\"---------------\")\n",
    "print(\"\\nDecision Tree Classification report for Testing Dataset\\n\", metrics.classification_report(y_test, DT_predict,target_names =['SEDANG', 'BAIK', 'TIDAK SEHAT']))\n"
   ]
  },
  {
   "cell_type": "code",
   "execution_count": 31,
   "id": "394c6edc",
   "metadata": {},
   "outputs": [],
   "source": [
    "class_names = ['SEDANG', 'BAIK', 'TIDAK SEHAT']"
   ]
  },
  {
   "cell_type": "code",
   "execution_count": 32,
   "id": "b1341ab9",
   "metadata": {},
   "outputs": [
    {
     "data": {
      "image/png": "[encoded data removed]",
      "text/plain": [
       "<Figure size 1000x700 with 1 Axes>"
      ]
     },
     "metadata": {},
     "output_type": "display_data"
    }
   ],
   "source": [
    "from sklearn.metrics import confusion_matrix\n",
    "from sklearn.metrics import plot_confusion_matrix\n",
    "\n",
    "# Generate confusion matrix\n",
    "conf_matrix = confusion_matrix(y_test, DT_predict)\n",
    "\n",
    "# Create a DataFrame for better visualization\n",
    "conf_df = pd.DataFrame(conf_matrix, index=class_names, columns=class_names)\n",
    "\n",
    "# Plot the stacked bar chart using seaborn\n",
    "plt.figure(figsize=(10, 7))\n",
    "sns.heatmap(conf_df, annot=True, fmt='g', cmap='Blues', cbar=False)\n",
    "plt.xlabel('Predicted')\n",
    "plt.ylabel('True')\n",
    "plt.title('Decision Tree Confusion Matrix')\n",
    "plt.show()"
   ]
  },
  {
   "cell_type": "code",
   "execution_count": 33,
   "id": "76f1c535",
   "metadata": {},
   "outputs": [
    {
     "name": "stdout",
     "output_type": "stream",
     "text": [
      "Training Dataset\n",
      "\n",
      "Accuracy: 96.89999999999999 %\n",
      "---------------\n",
      "Confusion matrix\n",
      "---------------\n",
      "[[ 800   46    0]\n",
      " [  44 2409    0]\n",
      " [   0   15  104]]\n",
      "---------------\n",
      "\n",
      "Random Forest Classification report for Training Dataset\n",
      "               precision    recall  f1-score   support\n",
      "\n",
      "      SEDANG       0.95      0.95      0.95       846\n",
      "        BAIK       0.98      0.98      0.98      2453\n",
      " TIDAK SEHAT       1.00      0.87      0.93       119\n",
      "\n",
      "    accuracy                           0.97      3418\n",
      "   macro avg       0.97      0.93      0.95      3418\n",
      "weighted avg       0.97      0.97      0.97      3418\n",
      "\n",
      "\n",
      "--------------------------------------------------------------------------------------------------\n",
      "\n",
      "Testing Dataset\n",
      "\n",
      "Accuracy: 95.39999999999999 %\n",
      "---------------\n",
      "Confusion matrix\n",
      "---------------\n",
      "[[192  16   0]\n",
      " [ 19 593   0]\n",
      " [  0   4  31]]\n",
      "---------------\n",
      "\n",
      "Random Forest Classification report for Testing Dataset\n",
      "               precision    recall  f1-score   support\n",
      "\n",
      "      SEDANG       0.91      0.92      0.92       208\n",
      "        BAIK       0.97      0.97      0.97       612\n",
      " TIDAK SEHAT       1.00      0.89      0.94        35\n",
      "\n",
      "    accuracy                           0.95       855\n",
      "   macro avg       0.96      0.93      0.94       855\n",
      "weighted avg       0.95      0.95      0.95       855\n",
      "\n"
     ]
    }
   ],
   "source": [
    "# fitting Random Forest model on dataset\n",
    "RF_class = RandomForestClassifier(criterion= 'gini',max_depth=4)\n",
    "RF_class.fit(x_train, y_train)\n",
    "\n",
    "# Getting prediction on Training Dataset\n",
    "RF_trainpredict=RF_class.predict(x_train)\n",
    "# Computing Model Accuracy\n",
    "print(\"Training Dataset\\n\")\n",
    "print(\"Accuracy:\",round(metrics.accuracy_score(y_train, RF_trainpredict),3) * 100, \"%\")\n",
    "print (\"---------------\")\n",
    "# Printing confusion matrix\n",
    "print (\"Confusion matrix\")\n",
    "print (\"---------------\")\n",
    "print(metrics.confusion_matrix(y_train, RF_trainpredict))\n",
    "# Model detailed classification report\n",
    "print (\"---------------\")\n",
    "print(\"\\nRandom Forest Classification report for Training Dataset\\n\", metrics.classification_report(y_train, RF_trainpredict,target_names =['SEDANG', 'BAIK', 'TIDAK SEHAT']))\n",
    "print(\"\\n--------------------------------------------------------------------------------------------------\\n\")\n",
    "\n",
    "\n",
    "# Getting prediction on Testing Dataset\n",
    "RF_predict=RF_class.predict(x_test)\n",
    "# Computing Model Accuracy\n",
    "print(\"Testing Dataset\\n\")\n",
    "print(\"Accuracy:\",round(metrics.accuracy_score(y_test, RF_predict),3) * 100, \"%\")\n",
    "print (\"---------------\")\n",
    "# Printing confusion matrix\n",
    "print (\"Confusion matrix\")\n",
    "print (\"---------------\")\n",
    "print(metrics.confusion_matrix(y_test, RF_predict))\n",
    "# Model detailed classification report\n",
    "print (\"---------------\")\n",
    "print(\"\\nRandom Forest Classification report for Testing Dataset\\n\", metrics.classification_report(y_test, RF_predict,target_names =['SEDANG', 'BAIK', 'TIDAK SEHAT']))"
   ]
  },
  {
   "cell_type": "code",
   "execution_count": 34,
   "id": "115cded5",
   "metadata": {},
   "outputs": [
    {
     "data": {
      "image/png": "[encoded data removed]",
      "text/plain": [
       "<Figure size 1000x700 with 1 Axes>"
      ]
     },
     "metadata": {},
     "output_type": "display_data"
    }
   ],
   "source": [
    "# Generate confusion matrix\n",
    "RF_conf_matrix = confusion_matrix(y_test, RF_predict)\n",
    "\n",
    "# Create a DataFrame for better visualization\n",
    "RF_conf_df = pd.DataFrame(RF_conf_matrix, index=class_names, columns=class_names)\n",
    "\n",
    "# Plot the stacked bar chart using seaborn\n",
    "plt.figure(figsize=(10, 7))\n",
    "sns.heatmap(RF_conf_df, annot=True, fmt='g', cmap='Blues', cbar=False)\n",
    "plt.xlabel('Predicted')\n",
    "plt.ylabel('True')\n",
    "plt.title('Random Forest Confusion Matrix')\n",
    "plt.show()"
   ]
  },
  {
   "cell_type": "code",
   "execution_count": 35,
   "id": "daec7a80",
   "metadata": {
    "scrolled": true
   },
   "outputs": [
    {
     "name": "stdout",
     "output_type": "stream",
     "text": [
      "Training Dataset\n",
      "\n",
      "Accuracy: 99.0 %\n",
      "---------------\n",
      "Confusion matrix\n",
      "---------------\n",
      "[[ 830   16    0]\n",
      " [  16 2437    0]\n",
      " [   0    1  118]]\n",
      "---------------\n",
      "\n",
      "Gradient Boost Classification report for Training Dataset\n",
      "               precision    recall  f1-score   support\n",
      "\n",
      "      SEDANG       0.98      0.98      0.98       846\n",
      "        BAIK       0.99      0.99      0.99      2453\n",
      " TIDAK SEHAT       1.00      0.99      1.00       119\n",
      "\n",
      "    accuracy                           0.99      3418\n",
      "   macro avg       0.99      0.99      0.99      3418\n",
      "weighted avg       0.99      0.99      0.99      3418\n",
      "\n",
      "\n",
      "--------------------------------------------------------------------------------------------------\n",
      "\n",
      "Testing Dataset\n",
      "\n",
      "Accuracy: 97.2 %\n",
      "---------------\n",
      "Confusion matrix\n",
      "---------------\n",
      "[[201   7   0]\n",
      " [ 13 599   0]\n",
      " [  0   4  31]]\n",
      "---------------\n",
      "\n",
      "Gradient Boost Classification report for Testing Dataset\n",
      "               precision    recall  f1-score   support\n",
      "\n",
      "      SEDANG       0.94      0.97      0.95       208\n",
      "        BAIK       0.98      0.98      0.98       612\n",
      " TIDAK SEHAT       1.00      0.89      0.94        35\n",
      "\n",
      "    accuracy                           0.97       855\n",
      "   macro avg       0.97      0.94      0.96       855\n",
      "weighted avg       0.97      0.97      0.97       855\n",
      "\n"
     ]
    }
   ],
   "source": [
    "# fitting Gradient Boost model on dataset\n",
    "GradientBoost_class = GradientBoostingClassifier()\n",
    "GradientBoost_class.fit(x_train, y_train)\n",
    "\n",
    "# Getting prediction on Training Dataset\n",
    "GB_trainpredict = GradientBoost_class.predict(x_train)\n",
    "# Computing Model Accuracy\n",
    "print(\"Training Dataset\\n\")\n",
    "print(\"Accuracy:\",round(metrics.accuracy_score(y_train, GB_trainpredict),3) * 100, \"%\")\n",
    "print (\"---------------\")\n",
    "# Printing confusion matrix\n",
    "print (\"Confusion matrix\")\n",
    "print (\"---------------\")\n",
    "print(metrics.confusion_matrix(y_train, GB_trainpredict))\n",
    "# Model detailed classification report\n",
    "print (\"---------------\")\n",
    "print(\"\\nGradient Boost Classification report for Training Dataset\\n\", metrics.classification_report(y_train, GB_trainpredict,target_names =['SEDANG', 'BAIK', 'TIDAK SEHAT']))\n",
    "print(\"\\n--------------------------------------------------------------------------------------------------\\n\")\n",
    "\n",
    "# Getting prediction on Testing Dataset\n",
    "GB_predict = GradientBoost_class.predict(x_test)\n",
    "# Computing Model Accuracy\n",
    "print(\"Testing Dataset\\n\")\n",
    "print(\"Accuracy:\",round(metrics.accuracy_score(y_test, GB_predict),3) * 100, \"%\")\n",
    "print (\"---------------\")\n",
    "# Printing confusion matrix\n",
    "print (\"Confusion matrix\")\n",
    "print (\"---------------\")\n",
    "print(metrics.confusion_matrix(y_test, GB_predict))\n",
    "# Model detailed classification report\n",
    "print (\"---------------\")\n",
    "print(\"\\nGradient Boost Classification report for Testing Dataset\\n\", metrics.classification_report(y_test, GB_predict,target_names =['SEDANG', 'BAIK', 'TIDAK SEHAT']))"
   ]
  },
  {
   "cell_type": "code",
   "execution_count": 36,
   "id": "a5fd442a",
   "metadata": {},
   "outputs": [
    {
     "data": {
      "image/png": "[encoded data removed]",
      "text/plain": [
       "<Figure size 1000x700 with 1 Axes>"
      ]
     },
     "metadata": {},
     "output_type": "display_data"
    }
   ],
   "source": [
    "# Generate confusion matrix\n",
    "GB_conf_matrix = confusion_matrix(y_test, GB_predict)\n",
    "\n",
    "# Create a DataFrame for better visualization\n",
    "GB_conf_df = pd.DataFrame(GB_conf_matrix, index=class_names, columns=class_names)\n",
    "\n",
    "# Plot the stacked bar chart using seaborn\n",
    "plt.figure(figsize=(10, 7))\n",
    "sns.heatmap(GB_conf_df, annot=True, fmt='g', cmap='Blues', cbar=False)\n",
    "plt.xlabel('Predicted')\n",
    "plt.ylabel('True')\n",
    "plt.title('Gradient Boosting Confusion Matrix')\n",
    "plt.show()"
   ]
  },
  {
   "cell_type": "code",
   "execution_count": 37,
   "id": "253e4c3b",
   "metadata": {},
   "outputs": [
    {
     "data": {
      "image/png": "[encoded data removed]",
      "text/plain": [
       "<Figure size 1000x600 with 1 Axes>"
      ]
     },
     "metadata": {},
     "output_type": "display_data"
    },
    {
     "data": {
      "image/png": "[encoded data removed]",
      "text/plain": [
       "<Figure size 1000x600 with 1 Axes>"
      ]
     },
     "metadata": {},
     "output_type": "display_data"
    },
    {
     "data": {
      "image/png": "[encoded data removed]",
      "text/plain": [
       "<Figure size 1000x600 with 1 Axes>"
      ]
     },
     "metadata": {},
     "output_type": "display_data"
    },
    {
     "data": {
      "image/png": "[encoded data removed]",
      "text/plain": [
       "<Figure size 1000x600 with 1 Axes>"
      ]
     },
     "metadata": {},
     "output_type": "display_data"
    }
   ],
   "source": [
    "from sklearn.metrics import accuracy_score, precision_score, recall_score, f1_score\n",
    "\n",
    "# Evaluate models (testing dataset)\n",
    "\n",
    "# Decision Tree\n",
    "\n",
    "DT_accuracy = accuracy_score(y_test, DT_predict)\n",
    "DT_precision = precision_score(y_test, DT_predict, average='weighted')\n",
    "DT_recall = recall_score(y_test, DT_predict, average='weighted')\n",
    "DT_f1score = f1_score(y_test, DT_predict, average='weighted')\n",
    "\n",
    "# Random Forest\n",
    "\n",
    "RF_accuracy = accuracy_score(y_test, RF_predict)\n",
    "RF_precision = precision_score(y_test, RF_predict, average='weighted')\n",
    "RF_recall = recall_score(y_test, RF_predict, average='weighted')\n",
    "RF_f1score = f1_score(y_test, RF_predict, average='weighted')\n",
    "\n",
    "# Gradient Boosting\n",
    "\n",
    "GB_accuracy = accuracy_score(y_test, GB_predict)\n",
    "GB_precision = precision_score(y_test, GB_predict, average='weighted')\n",
    "GB_recall = recall_score(y_test, GB_predict, average='weighted')\n",
    "GB_f1score = f1_score(y_test, GB_predict, average='weighted')\n",
    "\n",
    "model_metrics = pd.DataFrame({\n",
    "    'Model': ['Decision Tree Model', 'Random Forest Model', 'Gradient Boosting Model'],\n",
    "    'Accuracy': [DT_accuracy, RF_accuracy, GB_accuracy],\n",
    "    'Precision': [DT_precision, RF_precision, GB_precision],\n",
    "    'Recall': [DT_recall, RF_recall, GB_recall],\n",
    "    'F1 Score': [DT_f1score, RF_f1score, GB_f1score],\n",
    "})\n",
    "\n",
    "sns.set(style=\"whitegrid\")\n",
    "\n",
    "# Bar chart\n",
    "plt.figure(figsize=(10, 6))\n",
    "sns.barplot(x='Model', y='Accuracy', data=model_metrics, palette='viridis')\n",
    "plt.title('Model Comparison: Accuracy')\n",
    "plt.show()\n",
    "\n",
    "plt.figure(figsize=(10, 6))\n",
    "sns.barplot(x='Model', y='Precision', data=model_metrics, palette='inferno')\n",
    "plt.title('Model Comparison: Precision')\n",
    "plt.show()\n",
    "\n",
    "plt.figure(figsize=(10, 6))\n",
    "sns.barplot(x='Model', y='Recall', data=model_metrics, palette='mako')\n",
    "plt.title('Model Comparison: Recall')\n",
    "plt.show()\n",
    "\n",
    "plt.figure(figsize=(10, 6))\n",
    "sns.barplot(x='Model', y='F1 Score', data=model_metrics, palette='plasma')\n",
    "plt.title('Model Comparison: F1 Score')\n",
    "plt.show()"
   ]
  }
 ],
 "metadata": {
  "kernelspec": {
   "display_name": "Python 3 (ipykernel)",
   "language": "python",
   "name": "python3"
  },
  "language_info": {
   "codemirror_mode": {
    "name": "ipython",
    "version": 3
   },
   "file_extension": ".py",
   "mimetype": "text/x-python",
   "name": "python",
   "nbconvert_exporter": "python",
   "pygments_lexer": "ipython3",
   "version": "3.9.13"
  }
 },
 "nbformat": 4,
 "nbformat_minor": 5
}
